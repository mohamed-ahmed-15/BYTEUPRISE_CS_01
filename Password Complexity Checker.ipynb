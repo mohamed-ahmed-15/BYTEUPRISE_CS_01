{
 "cells": [
  {
   "cell_type": "code",
   "execution_count": 5,
   "id": "9cee9117",
   "metadata": {},
   "outputs": [
    {
     "name": "stdin",
     "output_type": "stream",
     "text": [
      "Enter a password to check its strength:  #Mo1551 2\n"
     ]
    },
    {
     "name": "stdout",
     "output_type": "stream",
     "text": [
      "Your password is very weak, you must improve it.\n",
      "Password should not contain spaces.\n"
     ]
    }
   ],
   "source": [
    "import re\n",
    "\n",
    "def check_password_strength(password):\n",
    "    # Initialize strength points\n",
    "    strength_points = 0\n",
    "    feedback = []\n",
    "\n",
    "    # Check length\n",
    "    if len(password) >= 8:\n",
    "        strength_points += 1\n",
    "    else:\n",
    "        feedback.append(\"Password should be at least 8 characters long.\")\n",
    "    \n",
    "    # Check for uppercase letters\n",
    "    if re.search(r'[A-Z]', password):\n",
    "        strength_points += 1\n",
    "    else:\n",
    "        feedback.append(\"Password should include at least one uppercase letter.\")\n",
    "    \n",
    "    # Check for lowercase letters\n",
    "    if re.search(r'[a-z]', password):\n",
    "        strength_points += 1\n",
    "    else:\n",
    "        feedback.append(\"Password should include at least one lowercase letter.\")\n",
    "    \n",
    "    # Check for digits\n",
    "    if re.search(r'\\d', password):\n",
    "        strength_points += 1\n",
    "    else:\n",
    "        feedback.append(\"Password should include at least one numeric digit.\")\n",
    "    \n",
    "    # Check for special characters\n",
    "    if re.search(r'[@$!%*?&#]', password):\n",
    "        strength_points += 1\n",
    "    else:\n",
    "        feedback.append(\"Password should include at least one special character (e.g., @$!%*?&).\")\n",
    "    \n",
    "    # Check for spaces\n",
    "    if re.search(r'\\s', password):\n",
    "        feedback.append(\"Password should not contain spaces.\")\n",
    "    \n",
    "    # Evaluate password strength\n",
    "    if len(feedback) == 0:\n",
    "        feedback.append(\"Your password is strong.\")\n",
    "    elif strength_points == 4:\n",
    "        feedback.insert(0, \"Your password is good, but could be improved.\")\n",
    "    elif strength_points == 3:\n",
    "        feedback.insert(0, \"Your password is average, consider making it stronger.\")\n",
    "    elif strength_points == 2:\n",
    "        feedback.insert(0, \"Your password is weak, you should improve it.\")\n",
    "    else:\n",
    "        feedback.insert(0, \"Your password is very weak, you must improve it.\")\n",
    "    \n",
    "    return feedback\n",
    "\n",
    "# Test the function\n",
    "password = input(\"Enter a password to check its strength: \")\n",
    "feedback = check_password_strength(password)\n",
    "for line in feedback:\n",
    "    print(line)"
   ]
  },
  {
   "cell_type": "code",
   "execution_count": null,
   "id": "c230aae9-b855-4039-9ed9-a574d0a7b1d4",
   "metadata": {},
   "outputs": [],
   "source": []
  }
 ],
 "metadata": {
  "kernelspec": {
   "display_name": "Python 3 (ipykernel)",
   "language": "python",
   "name": "python3"
  },
  "language_info": {
   "codemirror_mode": {
    "name": "ipython",
    "version": 3
   },
   "file_extension": ".py",
   "mimetype": "text/x-python",
   "name": "python",
   "nbconvert_exporter": "python",
   "pygments_lexer": "ipython3",
   "version": "3.11.7"
  }
 },
 "nbformat": 4,
 "nbformat_minor": 5
}
